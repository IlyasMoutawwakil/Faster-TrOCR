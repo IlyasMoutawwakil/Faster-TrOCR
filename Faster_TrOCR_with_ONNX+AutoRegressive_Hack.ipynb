{
  "nbformat": 4,
  "nbformat_minor": 0,
  "metadata": {
    "colab": {
      "provenance": [],
      "collapsed_sections": [
        "BfWdJcHjqqLC",
        "PN5hPbQOXjXP",
        "GwzjJaOseAEH",
        "7ln-CHwDraNb"
      ],
      "toc_visible": true,
      "authorship_tag": "ABX9TyPH88tY5LLb99jphJIHHwos",
      "include_colab_link": true
    },
    "kernelspec": {
      "name": "python3",
      "display_name": "Python 3"
    },
    "language_info": {
      "name": "python"
    },
    "accelerator": "GPU",
    "gpuClass": "premium",
    "widgets": {
      "application/vnd.jupyter.widget-state+json": {
        "d6e05892102740c8ac3978d7a577f605": {
          "model_module": "@jupyter-widgets/controls",
          "model_name": "HBoxModel",
          "model_module_version": "1.5.0",
          "state": {
            "_dom_classes": [],
            "_model_module": "@jupyter-widgets/controls",
            "_model_module_version": "1.5.0",
            "_model_name": "HBoxModel",
            "_view_count": null,
            "_view_module": "@jupyter-widgets/controls",
            "_view_module_version": "1.5.0",
            "_view_name": "HBoxView",
            "box_style": "",
            "children": [
              "IPY_MODEL_c58cdab9ba14482682048fd2d82dd6c9",
              "IPY_MODEL_af41e9c7235942db97e045d88cf7acc8",
              "IPY_MODEL_c3b3fb4c62134f3394756c6674010f93"
            ],
            "layout": "IPY_MODEL_375fecf9eaaf4a49bbeb5bf8e672c456"
          }
        },
        "c58cdab9ba14482682048fd2d82dd6c9": {
          "model_module": "@jupyter-widgets/controls",
          "model_name": "HTMLModel",
          "model_module_version": "1.5.0",
          "state": {
            "_dom_classes": [],
            "_model_module": "@jupyter-widgets/controls",
            "_model_module_version": "1.5.0",
            "_model_name": "HTMLModel",
            "_view_count": null,
            "_view_module": "@jupyter-widgets/controls",
            "_view_module_version": "1.5.0",
            "_view_name": "HTMLView",
            "description": "",
            "description_tooltip": null,
            "layout": "IPY_MODEL_3fe6eb78ed9e4e7d92f97a151aa45572",
            "placeholder": "​",
            "style": "IPY_MODEL_460407e67d3e42a38f37e7dafabf6c72",
            "value": ""
          }
        },
        "af41e9c7235942db97e045d88cf7acc8": {
          "model_module": "@jupyter-widgets/controls",
          "model_name": "FloatProgressModel",
          "model_module_version": "1.5.0",
          "state": {
            "_dom_classes": [],
            "_model_module": "@jupyter-widgets/controls",
            "_model_module_version": "1.5.0",
            "_model_name": "FloatProgressModel",
            "_view_count": null,
            "_view_module": "@jupyter-widgets/controls",
            "_view_module_version": "1.5.0",
            "_view_name": "ProgressView",
            "bar_style": "success",
            "description": "",
            "description_tooltip": null,
            "layout": "IPY_MODEL_d2735ca816494cafbc133e2fe9865f35",
            "max": 1,
            "min": 0,
            "orientation": "horizontal",
            "style": "IPY_MODEL_0812a1fc4f7b429b9a0e588160330bc4",
            "value": 0
          }
        },
        "c3b3fb4c62134f3394756c6674010f93": {
          "model_module": "@jupyter-widgets/controls",
          "model_name": "HTMLModel",
          "model_module_version": "1.5.0",
          "state": {
            "_dom_classes": [],
            "_model_module": "@jupyter-widgets/controls",
            "_model_module_version": "1.5.0",
            "_model_name": "HTMLModel",
            "_view_count": null,
            "_view_module": "@jupyter-widgets/controls",
            "_view_module_version": "1.5.0",
            "_view_name": "HTMLView",
            "description": "",
            "description_tooltip": null,
            "layout": "IPY_MODEL_0b116d21a8fe4502a16dba372665592a",
            "placeholder": "​",
            "style": "IPY_MODEL_be98bdd7806349f2a392835fbe054806",
            "value": " 0/0 [00:00&lt;?, ?it/s]"
          }
        },
        "375fecf9eaaf4a49bbeb5bf8e672c456": {
          "model_module": "@jupyter-widgets/base",
          "model_name": "LayoutModel",
          "model_module_version": "1.2.0",
          "state": {
            "_model_module": "@jupyter-widgets/base",
            "_model_module_version": "1.2.0",
            "_model_name": "LayoutModel",
            "_view_count": null,
            "_view_module": "@jupyter-widgets/base",
            "_view_module_version": "1.2.0",
            "_view_name": "LayoutView",
            "align_content": null,
            "align_items": null,
            "align_self": null,
            "border": null,
            "bottom": null,
            "display": null,
            "flex": null,
            "flex_flow": null,
            "grid_area": null,
            "grid_auto_columns": null,
            "grid_auto_flow": null,
            "grid_auto_rows": null,
            "grid_column": null,
            "grid_gap": null,
            "grid_row": null,
            "grid_template_areas": null,
            "grid_template_columns": null,
            "grid_template_rows": null,
            "height": null,
            "justify_content": null,
            "justify_items": null,
            "left": null,
            "margin": null,
            "max_height": null,
            "max_width": null,
            "min_height": null,
            "min_width": null,
            "object_fit": null,
            "object_position": null,
            "order": null,
            "overflow": null,
            "overflow_x": null,
            "overflow_y": null,
            "padding": null,
            "right": null,
            "top": null,
            "visibility": null,
            "width": null
          }
        },
        "3fe6eb78ed9e4e7d92f97a151aa45572": {
          "model_module": "@jupyter-widgets/base",
          "model_name": "LayoutModel",
          "model_module_version": "1.2.0",
          "state": {
            "_model_module": "@jupyter-widgets/base",
            "_model_module_version": "1.2.0",
            "_model_name": "LayoutModel",
            "_view_count": null,
            "_view_module": "@jupyter-widgets/base",
            "_view_module_version": "1.2.0",
            "_view_name": "LayoutView",
            "align_content": null,
            "align_items": null,
            "align_self": null,
            "border": null,
            "bottom": null,
            "display": null,
            "flex": null,
            "flex_flow": null,
            "grid_area": null,
            "grid_auto_columns": null,
            "grid_auto_flow": null,
            "grid_auto_rows": null,
            "grid_column": null,
            "grid_gap": null,
            "grid_row": null,
            "grid_template_areas": null,
            "grid_template_columns": null,
            "grid_template_rows": null,
            "height": null,
            "justify_content": null,
            "justify_items": null,
            "left": null,
            "margin": null,
            "max_height": null,
            "max_width": null,
            "min_height": null,
            "min_width": null,
            "object_fit": null,
            "object_position": null,
            "order": null,
            "overflow": null,
            "overflow_x": null,
            "overflow_y": null,
            "padding": null,
            "right": null,
            "top": null,
            "visibility": null,
            "width": null
          }
        },
        "460407e67d3e42a38f37e7dafabf6c72": {
          "model_module": "@jupyter-widgets/controls",
          "model_name": "DescriptionStyleModel",
          "model_module_version": "1.5.0",
          "state": {
            "_model_module": "@jupyter-widgets/controls",
            "_model_module_version": "1.5.0",
            "_model_name": "DescriptionStyleModel",
            "_view_count": null,
            "_view_module": "@jupyter-widgets/base",
            "_view_module_version": "1.2.0",
            "_view_name": "StyleView",
            "description_width": ""
          }
        },
        "d2735ca816494cafbc133e2fe9865f35": {
          "model_module": "@jupyter-widgets/base",
          "model_name": "LayoutModel",
          "model_module_version": "1.2.0",
          "state": {
            "_model_module": "@jupyter-widgets/base",
            "_model_module_version": "1.2.0",
            "_model_name": "LayoutModel",
            "_view_count": null,
            "_view_module": "@jupyter-widgets/base",
            "_view_module_version": "1.2.0",
            "_view_name": "LayoutView",
            "align_content": null,
            "align_items": null,
            "align_self": null,
            "border": null,
            "bottom": null,
            "display": null,
            "flex": null,
            "flex_flow": null,
            "grid_area": null,
            "grid_auto_columns": null,
            "grid_auto_flow": null,
            "grid_auto_rows": null,
            "grid_column": null,
            "grid_gap": null,
            "grid_row": null,
            "grid_template_areas": null,
            "grid_template_columns": null,
            "grid_template_rows": null,
            "height": null,
            "justify_content": null,
            "justify_items": null,
            "left": null,
            "margin": null,
            "max_height": null,
            "max_width": null,
            "min_height": null,
            "min_width": null,
            "object_fit": null,
            "object_position": null,
            "order": null,
            "overflow": null,
            "overflow_x": null,
            "overflow_y": null,
            "padding": null,
            "right": null,
            "top": null,
            "visibility": null,
            "width": "20px"
          }
        },
        "0812a1fc4f7b429b9a0e588160330bc4": {
          "model_module": "@jupyter-widgets/controls",
          "model_name": "ProgressStyleModel",
          "model_module_version": "1.5.0",
          "state": {
            "_model_module": "@jupyter-widgets/controls",
            "_model_module_version": "1.5.0",
            "_model_name": "ProgressStyleModel",
            "_view_count": null,
            "_view_module": "@jupyter-widgets/base",
            "_view_module_version": "1.2.0",
            "_view_name": "StyleView",
            "bar_color": null,
            "description_width": ""
          }
        },
        "0b116d21a8fe4502a16dba372665592a": {
          "model_module": "@jupyter-widgets/base",
          "model_name": "LayoutModel",
          "model_module_version": "1.2.0",
          "state": {
            "_model_module": "@jupyter-widgets/base",
            "_model_module_version": "1.2.0",
            "_model_name": "LayoutModel",
            "_view_count": null,
            "_view_module": "@jupyter-widgets/base",
            "_view_module_version": "1.2.0",
            "_view_name": "LayoutView",
            "align_content": null,
            "align_items": null,
            "align_self": null,
            "border": null,
            "bottom": null,
            "display": null,
            "flex": null,
            "flex_flow": null,
            "grid_area": null,
            "grid_auto_columns": null,
            "grid_auto_flow": null,
            "grid_auto_rows": null,
            "grid_column": null,
            "grid_gap": null,
            "grid_row": null,
            "grid_template_areas": null,
            "grid_template_columns": null,
            "grid_template_rows": null,
            "height": null,
            "justify_content": null,
            "justify_items": null,
            "left": null,
            "margin": null,
            "max_height": null,
            "max_width": null,
            "min_height": null,
            "min_width": null,
            "object_fit": null,
            "object_position": null,
            "order": null,
            "overflow": null,
            "overflow_x": null,
            "overflow_y": null,
            "padding": null,
            "right": null,
            "top": null,
            "visibility": null,
            "width": null
          }
        },
        "be98bdd7806349f2a392835fbe054806": {
          "model_module": "@jupyter-widgets/controls",
          "model_name": "DescriptionStyleModel",
          "model_module_version": "1.5.0",
          "state": {
            "_model_module": "@jupyter-widgets/controls",
            "_model_module_version": "1.5.0",
            "_model_name": "DescriptionStyleModel",
            "_view_count": null,
            "_view_module": "@jupyter-widgets/base",
            "_view_module_version": "1.2.0",
            "_view_name": "StyleView",
            "description_width": ""
          }
        }
      }
    }
  },
  "cells": [
    {
      "cell_type": "markdown",
      "metadata": {
        "id": "view-in-github",
        "colab_type": "text"
      },
      "source": [
        "<a href=\"https://colab.research.google.com/github/IlyasMoutawwakil/ONNX-TrOCR/blob/main/Faster_TrOCR_with_ONNX%2BAutoRegressive_Hack.ipynb\" target=\"_parent\"><img src=\"https://colab.research.google.com/assets/colab-badge.svg\" alt=\"Open In Colab\"/></a>"
      ]
    },
    {
      "cell_type": "markdown",
      "source": [
        "So you want a faster TrOCR ? You're in the right place."
      ],
      "metadata": {
        "id": "TcU71HDSa8DC"
      }
    },
    {
      "cell_type": "markdown",
      "source": [
        "# Setup"
      ],
      "metadata": {
        "id": "BsfvSXH8RYEf"
      }
    },
    {
      "cell_type": "code",
      "source": [
        "#@title This should be taken into account because we are going to experiment with different configurations\n",
        "#@markdown Lucky shot !! We got the A100-40GB xD\n",
        "!nvidia-smi"
      ],
      "metadata": {
        "colab": {
          "base_uri": "https://localhost:8080/"
        },
        "cellView": "form",
        "id": "MGGSEXXGTAyU",
        "outputId": "a3e11ec5-84d5-4c4d-a019-cc908c745f92"
      },
      "execution_count": 1,
      "outputs": [
        {
          "output_type": "stream",
          "name": "stdout",
          "text": [
            "Sat Oct 22 13:33:46 2022       \n",
            "+-----------------------------------------------------------------------------+\n",
            "| NVIDIA-SMI 460.32.03    Driver Version: 460.32.03    CUDA Version: 11.2     |\n",
            "|-------------------------------+----------------------+----------------------+\n",
            "| GPU  Name        Persistence-M| Bus-Id        Disp.A | Volatile Uncorr. ECC |\n",
            "| Fan  Temp  Perf  Pwr:Usage/Cap|         Memory-Usage | GPU-Util  Compute M. |\n",
            "|                               |                      |               MIG M. |\n",
            "|===============================+======================+======================|\n",
            "|   0  A100-SXM4-40GB      Off  | 00000000:00:04.0 Off |                    0 |\n",
            "| N/A   36C    P0    61W / 400W |      0MiB / 40536MiB |      0%      Default |\n",
            "|                               |                      |             Disabled |\n",
            "+-------------------------------+----------------------+----------------------+\n",
            "                                                                               \n",
            "+-----------------------------------------------------------------------------+\n",
            "| Processes:                                                                  |\n",
            "|  GPU   GI   CI        PID   Type   Process name                  GPU Memory |\n",
            "|        ID   ID                                                   Usage      |\n",
            "|=============================================================================|\n",
            "|  No running processes found                                                 |\n",
            "+-----------------------------------------------------------------------------+\n"
          ]
        }
      ]
    },
    {
      "cell_type": "code",
      "execution_count": 2,
      "metadata": {
        "id": "qbQUiDaeFvWR",
        "cellView": "form"
      },
      "outputs": [],
      "source": [
        "#@title Run this to pip install everything needed and wget an image with some text in it\n",
        "%%capture\n",
        "\n",
        "!pip install craft-text-detector\n",
        "!pip install transformers\n",
        "!pip install sentencepiece\n",
        "!pip install onnxruntime-gpu\n",
        "!pip install protobuf\n",
        "!pip install torch\n",
        "!pip install onnx\n",
        "\n",
        "!wget https://www.t4help.uhi.ac.uk/t4-media/one-web/t4-help/landing-pages/content-type-text.JPG"
      ]
    },
    {
      "cell_type": "code",
      "source": [
        "#@title Detect some textlines to work our experiments on\n",
        "\n",
        "%%capture\n",
        "\n",
        "import cv2\n",
        "from PIL import Image\n",
        "from craft_text_detector import Craft\n",
        "\n",
        "# set image path and export folder directory\n",
        "filename = 'content-type-text.JPG'\n",
        "image = cv2.imread(filename)\n",
        "\n",
        "# create a craft instance\n",
        "craft = Craft(crop_type=\"poly\", cuda=True)\n",
        "\n",
        "# apply craft text detection and export detected regions to output directory\n",
        "prediction_result = craft.detect_text(image)"
      ],
      "metadata": {
        "cellView": "form",
        "id": "nB52e34-I3nT"
      },
      "execution_count": 2,
      "outputs": []
    },
    {
      "cell_type": "code",
      "source": [
        "#@title Print some examples\n",
        "#@markdown Notice that the length is usually not the same when working textlines coming from real scripts.\n",
        "\n",
        "import matplotlib.pyplot as plt\n",
        "\n",
        "textlines = []\n",
        "\n",
        "for i,j in enumerate(prediction_result['boxes']): \n",
        "    roi = image[int(prediction_result['boxes'][i][0][1]): int(prediction_result['boxes'][i][2][1]), \n",
        "              int(prediction_result['boxes'][i][0][0]): int(prediction_result['boxes'][i][2][0])]\n",
        "    textlines.append(Image.fromarray(roi).convert(\"RGB\"))\n",
        "\n",
        "    if i<5:\n",
        "      plt.figure(figsize=(15, 60))\n",
        "      plt.imshow(textlines[-1])\n",
        "      plt.show()\n",
        "\n",
        "print('Number of textlines in total :', len(textlines))"
      ],
      "metadata": {
        "colab": {
          "base_uri": "https://localhost:8080/",
          "height": 381
        },
        "cellView": "form",
        "id": "4L9Xz2FWKcnF",
        "outputId": "9c547255-2210-4788-a674-8c2e8b9526f7"
      },
      "execution_count": 3,
      "outputs": [
        {
          "output_type": "display_data",
          "data": {
            "text/plain": [
              "<Figure size 1080x4320 with 1 Axes>"
            ],
            "image/png": "[encoded data removed]"
          },
          "metadata": {
            "needs_background": "light"
          }
        },
        {
          "output_type": "display_data",
          "data": {
            "text/plain": [
              "<Figure size 1080x4320 with 1 Axes>"
            ],
            "image/png": "[encoded data removed]"
          },
          "metadata": {
            "needs_background": "light"
          }
        },
        {
          "output_type": "display_data",
          "data": {
            "text/plain": [
              "<Figure size 1080x4320 with 1 Axes>"
            ],
            "image/png": "[encoded data removed]"
          },
          "metadata": {
            "needs_background": "light"
          }
        },
        {
          "output_type": "display_data",
          "data": {
            "text/plain": [
              "<Figure size 1080x4320 with 1 Axes>"
            ],
            "image/png": "[encoded data removed]"
          },
          "metadata": {
            "needs_background": "light"
          }
        },
        {
          "output_type": "display_data",
          "data": {
            "text/plain": [
              "<Figure size 1080x4320 with 1 Axes>"
            ],
            "image/png": "[encoded data removed]"
          },
          "metadata": {
            "needs_background": "light"
          }
        },
        {
          "output_type": "stream",
          "name": "stdout",
          "text": [
            "Number of textlines in total : 17\n"
          ]
        }
      ]
    },
    {
      "cell_type": "markdown",
      "source": [
        "# HF model"
      ],
      "metadata": {
        "id": "ZsAvzylPGRry"
      }
    },
    {
      "cell_type": "code",
      "source": [
        "#@title Create HF TrOCR models for both CPU and GPU\n",
        "\n",
        "from transformers import VisionEncoderDecoderModel, TrOCRProcessor\n",
        "import torch\n",
        "\n",
        "preprocessor = TrOCRProcessor.from_pretrained('microsoft/trocr-base-stage1')\n",
        "\n",
        "cuda_hf_model = VisionEncoderDecoderModel.from_pretrained('microsoft/trocr-base-stage1').to('cuda')\n",
        "cpu_hf_model = VisionEncoderDecoderModel.from_pretrained('microsoft/trocr-base-stage1').to('cpu')"
      ],
      "metadata": {
        "colab": {
          "base_uri": "https://localhost:8080/",
          "height": 173,
          "referenced_widgets": [
            "d6e05892102740c8ac3978d7a577f605",
            "c58cdab9ba14482682048fd2d82dd6c9",
            "af41e9c7235942db97e045d88cf7acc8",
            "c3b3fb4c62134f3394756c6674010f93",
            "375fecf9eaaf4a49bbeb5bf8e672c456",
            "3fe6eb78ed9e4e7d92f97a151aa45572",
            "460407e67d3e42a38f37e7dafabf6c72",
            "d2735ca816494cafbc133e2fe9865f35",
            "0812a1fc4f7b429b9a0e588160330bc4",
            "0b116d21a8fe4502a16dba372665592a",
            "be98bdd7806349f2a392835fbe054806"
          ]
        },
        "id": "4fN0-oHlGN1d",
        "outputId": "b3a345db-7ca5-481d-a3c8-4b1f66b28b12"
      },
      "execution_count": 4,
      "outputs": [
        {
          "output_type": "stream",
          "name": "stderr",
          "text": [
            "The cache for model files in Transformers v4.22.0 has been updated. Migrating your old cache. This is a one-time only operation. You can interrupt this and resume the migration later on by calling `transformers.utils.move_cache()`.\n"
          ]
        },
        {
          "output_type": "stream",
          "name": "stdout",
          "text": [
            "Moving 0 files to the new cache system\n"
          ]
        },
        {
          "output_type": "display_data",
          "data": {
            "text/plain": [
              "0it [00:00, ?it/s]"
            ],
            "application/vnd.jupyter.widget-view+json": {
              "version_major": 2,
              "version_minor": 0,
              "model_id": "d6e05892102740c8ac3978d7a577f605"
            }
          },
          "metadata": {}
        },
        {
          "output_type": "stream",
          "name": "stderr",
          "text": [
            "Some weights of VisionEncoderDecoderModel were not initialized from the model checkpoint at microsoft/trocr-base-stage1 and are newly initialized: ['encoder.pooler.dense.weight', 'encoder.pooler.dense.bias']\n",
            "You should probably TRAIN this model on a down-stream task to be able to use it for predictions and inference.\n",
            "Some weights of VisionEncoderDecoderModel were not initialized from the model checkpoint at microsoft/trocr-base-stage1 and are newly initialized: ['encoder.pooler.dense.weight', 'encoder.pooler.dense.bias']\n",
            "You should probably TRAIN this model on a down-stream task to be able to use it for predictions and inference.\n"
          ]
        }
      ]
    },
    {
      "cell_type": "code",
      "source": [
        "#@title Generation configuration\n",
        "\n",
        "def configure_generation(model, beams=1):\n",
        "    # model.config.decoder_start_token_id = preprocessor.tokenizer.cls_token_id # only if you're gonna train the model\n",
        "    model.config.pad_token_id = model.config.decoder.pad_token_id = preprocessor.tokenizer.pad_token_id\n",
        "    model.config.eos_token_id = model.config.decoder.eos_token_id = preprocessor.tokenizer.sep_token_id\n",
        "    # make sure vocab size is set correctly\n",
        "    model.config.vocab_size = model.config.decoder.vocab_size\n",
        "    # set beam search parameters\n",
        "    model.config.decoder.early_stopping = True\n",
        "    model.config.decoder.no_repeat_ngram_size = 3\n",
        "    model.config.decoder.length_penalty = 2.0\n",
        "    model.config.decoder.num_beams = beams\n",
        "\n",
        "configure_generation(cuda_hf_model, 1)\n",
        "configure_generation(cpu_hf_model, 1)"
      ],
      "metadata": {
        "id": "zYMHaLuTGfhJ"
      },
      "execution_count": 5,
      "outputs": []
    },
    {
      "cell_type": "code",
      "source": [
        "pixel_values = preprocessor.feature_extractor(\n",
        "  textlines,\n",
        "  return_tensors=\"pt\"\n",
        ").pixel_values"
      ],
      "metadata": {
        "id": "HbVlRcNqWssw"
      },
      "execution_count": 7,
      "outputs": []
    },
    {
      "cell_type": "markdown",
      "source": [
        "## HF Inference"
      ],
      "metadata": {
        "id": "G7TjcxcB78KK"
      }
    },
    {
      "cell_type": "code",
      "source": [
        "%timeit preprocessor.tokenizer.batch_decode( \\\n",
        "                                            cuda_hf_model.generate( \\\n",
        "                                                                   pixel_values.to('cuda'), \\\n",
        "                                                                   max_length=96 \\\n",
        "                                                                   ), \\\n",
        "                                            skip_special_tokens=True \\\n",
        "                                            )"
      ],
      "metadata": {
        "colab": {
          "base_uri": "https://localhost:8080/"
        },
        "id": "yPRNvi0dJ3HI",
        "outputId": "7b87cb34-1a08-4df9-fd8b-8c7b23ce6e46"
      },
      "execution_count": 11,
      "outputs": [
        {
          "output_type": "stream",
          "name": "stdout",
          "text": [
            "1.68 s ± 2.98 ms per loop (mean ± std. dev. of 7 runs, 1 loop each)\n"
          ]
        }
      ]
    },
    {
      "cell_type": "code",
      "source": [
        "%time preprocessor.tokenizer.batch_decode( \\\n",
        "                                          cpu_hf_model.generate( \\\n",
        "                                                                pixel_values.to('cpu'), \\\n",
        "                                                                max_length=96 \\\n",
        "                                                                ), \\\n",
        "                                          skip_special_tokens=True \\\n",
        "                                          )"
      ],
      "metadata": {
        "colab": {
          "base_uri": "https://localhost:8080/"
        },
        "id": "UO0aAKEJkStJ",
        "outputId": "37caa9c6-62da-4b1c-f19d-29f8495eeced"
      },
      "execution_count": 9,
      "outputs": [
        {
          "output_type": "stream",
          "name": "stdout",
          "text": [
            "CPU times: user 4min 7s, sys: 17.5 s, total: 4min 24s\n",
            "Wall time: 44.8 s\n"
          ]
        },
        {
          "output_type": "execute_result",
          "data": {
            "text/plain": [
              "['This text is generated by Landing Page Text positioned at Top. In the Banner Ribbon and Action Button item above, Display',\n",
              " 'Search Box replaces the Ribbon text, and there is no Action button. In this 2-1-1 layout, there is a Content Butes item in the',\n",
              " 'double-width left column. The other two columns each contain Landing Page Text items, positioned at Left and Right. Return to',\n",
              " 'the Landing Page overview.',\n",
              " 'This is Landing Page Text which is',\n",
              " 'positioned at Right. It is automatically',\n",
              " 'right-aligned.',\n",
              " 'University of the Highlands and Islands',\n",
              " 'Executive Office',\n",
              " '12b Ness Walk',\n",
              " 'Inverness',\n",
              " 'Scotland',\n",
              " 'IV3 5SO',\n",
              " 'Linking to Media Library documents, or',\n",
              " 'to Sections is possible. The usual text',\n",
              " 'formatting options are available in the',\n",
              " 'toolbar.']"
            ]
          },
          "metadata": {},
          "execution_count": 9
        }
      ]
    },
    {
      "cell_type": "markdown",
      "source": [
        "# Container models"
      ],
      "metadata": {
        "id": "BfWdJcHjqqLC"
      }
    },
    {
      "cell_type": "code",
      "source": [
        "import torch\n",
        "\n",
        "class TrOCREncoder(torch.nn.Module):\n",
        "    \"\"\" Creation of a class to output only the last hidden state from the encoder \"\"\"\n",
        "\n",
        "    def __init__(self, encoder, config):\n",
        "        super().__init__()\n",
        "        self.model = encoder\n",
        "        self.config = config\n",
        "        \n",
        "    def forward(self, *inputs, **kwargs):\n",
        "        return self.model(*inputs, **kwargs)\n",
        "\n",
        "class TrOCRDecoder(torch.nn.Module):\n",
        "    \"\"\" Creation of a class to combine the decoder and the lm head \"\"\"\n",
        "\n",
        "    def __init__(self, decoder, config):\n",
        "        super().__init__()\n",
        "        self.model = decoder\n",
        "        self.config = config\n",
        "\n",
        "    def forward(self, *inputs, **kwargs):\n",
        "        return self.model(*inputs, **kwargs) # I tried unrolling the decoder but it didn't work"
      ],
      "metadata": {
        "id": "eFpJyL9jXb1X"
      },
      "execution_count": 12,
      "outputs": []
    },
    {
      "cell_type": "code",
      "source": [
        "simplified_encoder = TrOCREncoder(cuda_hf_model.encoder, cuda_hf_model.encoder.config)\n",
        "simplified_decoder = TrOCRDecoder(cuda_hf_model.decoder, cuda_hf_model.decoder.config)"
      ],
      "metadata": {
        "id": "k0lEEDhqXfqg"
      },
      "execution_count": 13,
      "outputs": []
    },
    {
      "cell_type": "markdown",
      "source": [
        "# ONNXization"
      ],
      "metadata": {
        "id": "PN5hPbQOXjXP"
      }
    },
    {
      "cell_type": "code",
      "source": [
        "from pathlib import Path\n",
        "\n",
        "with torch.no_grad():\n",
        "    torch.onnx.export(\n",
        "        simplified_encoder,\n",
        "        args=torch.ones([64, 3, 384, 384]).to('cuda'),\n",
        "        f=Path('/content/trocr_encoder.onnx'),\n",
        "        opset_version=15,\n",
        "        input_names=[\"pixel_values\"],\n",
        "        output_names=[\"last_hidden_state\"],\n",
        "        dynamic_axes={\n",
        "            \"pixel_values\": {0:'batch'},\n",
        "            \"last_hidden_state\": {0: 'batch'},\n",
        "        },\n",
        "        do_constant_folding=True,\n",
        "    )"
      ],
      "metadata": {
        "id": "F3-woCZUX-AK",
        "colab": {
          "base_uri": "https://localhost:8080/"
        },
        "outputId": "aba6d5fe-ca94-4b87-a2d6-1d14137688c1"
      },
      "execution_count": 14,
      "outputs": [
        {
          "output_type": "stream",
          "name": "stderr",
          "text": [
            "/usr/local/lib/python3.7/dist-packages/transformers/models/vit/modeling_vit.py:172: TracerWarning: Converting a tensor to a Python boolean might cause the trace to be incorrect. We can't record the data flow of Python values, so this value will be treated as a constant in the future. This means that the trace might not generalize to other inputs!\n",
            "  if num_channels != self.num_channels:\n",
            "/usr/local/lib/python3.7/dist-packages/transformers/models/vit/modeling_vit.py:177: TracerWarning: Converting a tensor to a Python boolean might cause the trace to be incorrect. We can't record the data flow of Python values, so this value will be treated as a constant in the future. This means that the trace might not generalize to other inputs!\n",
            "  if height != self.image_size[0] or width != self.image_size[1]:\n"
          ]
        }
      ]
    },
    {
      "cell_type": "code",
      "source": [
        "input_ids = torch.ones(64, 96, dtype=torch.int64).to('cuda')\n",
        "attention_mask = torch.ones(64, 96, dtype=torch.int64).to('cuda')\n",
        "encoder_hidden_states  = torch.ones([64, 577, 768]).to('cuda')\n",
        "\n",
        "with torch.no_grad():\n",
        "    torch.onnx.export(\n",
        "        simplified_decoder,\n",
        "        args=(input_ids, attention_mask, encoder_hidden_states),\n",
        "        f=Path('/content/trocr_decoder.onnx'),\n",
        "        opset_version=15,\n",
        "        input_names=[\n",
        "            \"input_ids\",\n",
        "            \"attention_mask\",\n",
        "            \"encoder_hidden_states\",\n",
        "        ],\n",
        "        output_names=[\"logits\"],\n",
        "        dynamic_axes={\n",
        "            \"input_ids\": {0:'batch', 1:'sequence_length'},\n",
        "            \"attention_mask\": {0:'batch', 1:'sequence_length'},\n",
        "            \"encoder_hidden_states\": {0:'batch'},\n",
        "            \"logits\": {0:'batch'},\n",
        "        },\n",
        "        do_constant_folding=True,\n",
        "    )"
      ],
      "metadata": {
        "id": "ZSgNlATgaosW",
        "colab": {
          "base_uri": "https://localhost:8080/"
        },
        "outputId": "9670bea0-be41-44c8-a24c-96589ed6c1f8"
      },
      "execution_count": 15,
      "outputs": [
        {
          "output_type": "stream",
          "name": "stderr",
          "text": [
            "/usr/local/lib/python3.7/dist-packages/transformers/models/trocr/modeling_trocr.py:141: TracerWarning: Converting a tensor to a Python boolean might cause the trace to be incorrect. We can't record the data flow of Python values, so this value will be treated as a constant in the future. This means that the trace might not generalize to other inputs!\n",
            "  if self.weights is None or max_pos > self.weights.size(0):\n",
            "/usr/local/lib/python3.7/dist-packages/transformers/models/trocr/modeling_trocr.py:526: TracerWarning: Converting a tensor to a Python boolean might cause the trace to be incorrect. We can't record the data flow of Python values, so this value will be treated as a constant in the future. This means that the trace might not generalize to other inputs!\n",
            "  if input_shape[-1] > 1:\n",
            "/usr/local/lib/python3.7/dist-packages/transformers/models/trocr/modeling_trocr.py:53: TracerWarning: torch.tensor results are registered as constants in the trace. You can safely ignore this warning if you use this function to create tensors out of constant variables that would be the same every time you call this function. In any other case, this might cause the trace to be incorrect.\n",
            "  mask = torch.full((tgt_len, tgt_len), torch.tensor(torch.finfo(dtype).min))\n",
            "/usr/local/lib/python3.7/dist-packages/transformers/models/trocr/modeling_trocr.py:258: TracerWarning: Converting a tensor to a Python boolean might cause the trace to be incorrect. We can't record the data flow of Python values, so this value will be treated as a constant in the future. This means that the trace might not generalize to other inputs!\n",
            "  if attn_weights.size() != (bsz * self.num_heads, tgt_len, src_len):\n",
            "/usr/local/lib/python3.7/dist-packages/transformers/models/trocr/modeling_trocr.py:265: TracerWarning: Converting a tensor to a Python boolean might cause the trace to be incorrect. We can't record the data flow of Python values, so this value will be treated as a constant in the future. This means that the trace might not generalize to other inputs!\n",
            "  if attention_mask.size() != (bsz, 1, tgt_len, src_len):\n",
            "/usr/local/lib/python3.7/dist-packages/transformers/models/trocr/modeling_trocr.py:297: TracerWarning: Converting a tensor to a Python boolean might cause the trace to be incorrect. We can't record the data flow of Python values, so this value will be treated as a constant in the future. This means that the trace might not generalize to other inputs!\n",
            "  if attn_output.size() != (bsz * self.num_heads, tgt_len, self.head_dim):\n"
          ]
        }
      ]
    },
    {
      "cell_type": "code",
      "source": [
        "onnx_models = (Path('/content/trocr_encoder.onnx'),\n",
        "               Path('/content/trocr_decoder.onnx'))"
      ],
      "metadata": {
        "id": "4JVDqn2aa-s1"
      },
      "execution_count": 16,
      "outputs": []
    },
    {
      "cell_type": "markdown",
      "source": [
        "# Quantization \n",
        "I guess some operations used in TrOCR are not implemented for quantization so let's just skip it."
      ],
      "metadata": {
        "id": "GwzjJaOseAEH"
      }
    },
    {
      "cell_type": "code",
      "source": [
        "# from onnxruntime.quantization import quantize_dynamic, QuantType\n",
        "# from pathlib import Path\n",
        "\n",
        "# def quantize(models_paths):\n",
        "#     \"\"\"\n",
        "#     Quantize the weights of the model from float32 to in8 to allow very efficient inference on modern CPU\n",
        "#     Uses unsigned ints for activation values, signed ints for weights, per\n",
        "#     https://onnxruntime.ai/docs/performance/quantization.html#data-type-selection\n",
        "#     it is faster on most CPU architectures\n",
        "#     Args:\n",
        "#         onnx_model_path: Path to location the exported ONNX model is stored\n",
        "#     Returns: The Path generated for the quantized\n",
        "#     \"\"\"\n",
        "\n",
        "#     quant_models_paths = []\n",
        "#     for model_path in models_paths:\n",
        "      \n",
        "#         model_path = model_path.as_posix()\n",
        "#         output_model_path = f\"{model_path[:-5]}_quantized.onnx\"\n",
        "        \n",
        "#         quantize_dynamic(\n",
        "#             model_input=model_path,\n",
        "#             model_output=output_model_path,\n",
        "#             per_channel=True,\n",
        "#             reduce_range=True, # should be the same as per_channel\n",
        "#             weight_type=QuantType.QUInt8, # per docs, signed is faster on most CPUs\n",
        "#             optimize_model=True,\n",
        "#         )\n",
        "#         quant_models_paths.append(output_model_path)\n",
        "\n",
        "#     return tuple(quant_models_paths)\n",
        "\n",
        "# quantized_models_paths = quantize(models_paths=onnx_models)\n",
        "# quantized_models_paths"
      ],
      "metadata": {
        "id": "CJsV5pU4d-ZY"
      },
      "execution_count": 18,
      "outputs": []
    },
    {
      "cell_type": "markdown",
      "source": [
        "# ONNX Runtime Sessions"
      ],
      "metadata": {
        "id": "7ln-CHwDraNb"
      }
    },
    {
      "cell_type": "code",
      "source": [
        "import os\n",
        "from onnxruntime import (\n",
        "    GraphOptimizationLevel,\n",
        "    InferenceSession,\n",
        "    SessionOptions,\n",
        "    ExecutionMode,\n",
        ")\n",
        "\n",
        "def get_onnx_runtime_sessions(\n",
        "    model_paths,\n",
        "    default: bool = True,\n",
        "    opt_level: int = 99,\n",
        "    parallel_exe_mode: bool = True,\n",
        "    provider=[\"TensorrtExecutionProvider\", \"CPUExecutionProvider\", \"CUDAExecutionProvider\"]\n",
        "):\n",
        "    path_to_encoder, path_to_decoder = model_paths\n",
        "    \n",
        "    if default:\n",
        "        encoder_sess = InferenceSession(str(path_to_encoder), providers=provider)\n",
        "        decoder_sess = InferenceSession(str(path_to_decoder), providers=provider)\n",
        "    else:\n",
        "        # Few properties that might have an impact on performances\n",
        "        options = SessionOptions()\n",
        "        if opt_level == 1:\n",
        "            options.graph_optimization_level = GraphOptimizationLevel.ORT_ENABLE_BASIC\n",
        "        elif opt_level == 2:\n",
        "            options.graph_optimization_level = GraphOptimizationLevel.ORT_ENABLE_EXTENDED\n",
        "        else:\n",
        "            assert opt_level == 99\n",
        "            options.graph_optimization_level = GraphOptimizationLevel.ORT_ENABLE_ALL\n",
        "\n",
        "        # set this true for better performance\n",
        "        if parallel_exe_mode == True:\n",
        "            options.execution_mode = ExecutionMode.ORT_PARALLEL\n",
        "        else:\n",
        "            options.execution_mode = ExecutionMode.ORT_SEQUENTIAL\n",
        "\n",
        "        encoder_sess = InferenceSession(str(path_to_encoder), options, providers=provider)\n",
        "        decoder_sess = InferenceSession(str(path_to_decoder), options, providers=provider)\n",
        "\n",
        "    return encoder_sess, decoder_sess\n",
        "  \n",
        "cuda_encoder_sess, cuda_decoder_sess = get_onnx_runtime_sessions(\n",
        "  model_paths=onnx_models,\n",
        "  default=True,\n",
        "  provider=['CUDAExecutionProvider']\n",
        ")\n",
        "\n",
        "cpu_encoder_sess, cpu_decoder_sess = get_onnx_runtime_sessions(\n",
        "  model_paths=onnx_models,\n",
        "  default=True,\n",
        "  provider=['CPUExecutionProvider']\n",
        ")"
      ],
      "metadata": {
        "id": "QDf7y8rsfk-O"
      },
      "execution_count": 17,
      "outputs": []
    },
    {
      "cell_type": "markdown",
      "source": [
        "# Inference Models Testing"
      ],
      "metadata": {
        "id": "9y62DFchhFUJ"
      }
    },
    {
      "cell_type": "code",
      "source": [
        "import torch\n",
        "import numpy as np\n",
        "from transformers.modeling_outputs import BaseModelOutput\n",
        "\n",
        "class ONNXTrOCREncoder(torch.nn.Module):\n",
        "    def __init__(self, encoder_sess, encoder_config={}):\n",
        "        super().__init__()\n",
        "        self.encoder = encoder_sess\n",
        "        self.config = encoder_config\n",
        "        self.main_input_name = 'pixel_values'\n",
        "\n",
        "    def forward(\n",
        "        self,\n",
        "        pixel_values,\n",
        "        *args, **kwargs\n",
        "    ):\n",
        "        last_hidden_state = torch.from_numpy(\n",
        "            self.encoder.run(\n",
        "                [\"last_hidden_state\"],\n",
        "                {\n",
        "                    \"pixel_values\": pixel_values.cpu().numpy(),\n",
        "                },\n",
        "            )[0])\n",
        "        \n",
        "        return BaseModelOutput(last_hidden_state=last_hidden_state)\n",
        "\n",
        "cuda_onnx_encoder = ONNXTrOCREncoder(cuda_encoder_sess, cuda_hf_model.encoder.config)\n",
        "cpu_onnx_encoder = ONNXTrOCREncoder(cpu_encoder_sess, cpu_hf_model.encoder.config)\n",
        "\n",
        "hidden_state = cuda_onnx_encoder(torch.ones([2, 3, 384, 384]).to('cuda'))\n",
        "hidden_state = cpu_onnx_encoder(torch.ones([2, 3, 384, 384]).to('cpu'))\n",
        "\n",
        "hidden_state[0].shape"
      ],
      "metadata": {
        "id": "YQowydG-hBvV",
        "colab": {
          "base_uri": "https://localhost:8080/"
        },
        "outputId": "05166518-9d3c-469a-a519-fb0c371ee0ee"
      },
      "execution_count": 18,
      "outputs": [
        {
          "output_type": "execute_result",
          "data": {
            "text/plain": [
              "torch.Size([2, 577, 768])"
            ]
          },
          "metadata": {},
          "execution_count": 18
        }
      ]
    },
    {
      "cell_type": "code",
      "source": [
        "from transformers.modeling_outputs import Seq2SeqLMOutput\n",
        "\n",
        "class ONNXTrOCRDecoder(torch.nn.Module):\n",
        "    def __init__(self, decoder_sess, decoder_config={}):\n",
        "        super().__init__()\n",
        "        self.decoder = decoder_sess\n",
        "        self.config = decoder_config\n",
        "    \n",
        "    def prepare_inputs_for_generation(self, input_ids, past=None, attention_mask=None, use_cache=None, **kwargs):\n",
        "        # if model is used as a decoder in encoder-decoder model, the decoder attention mask is created on the fly\n",
        "        if attention_mask is None:\n",
        "            attention_mask = input_ids.new_ones(input_ids.shape)\n",
        "\n",
        "        return {\n",
        "            \"input_ids\": input_ids,  # encoder_outputs is defined. input_ids not needed\n",
        "            \"attention_mask\": attention_mask,\n",
        "            \"past_key_values\": past,\n",
        "            \"use_cache\": use_cache,\n",
        "        }\n",
        "    \n",
        "    def forward(self, input_ids, attention_mask, encoder_hidden_states, *args, **kwargs):\n",
        "        decoder_outputs = torch.from_numpy(self.decoder.run(\n",
        "            [\"logits\"],\n",
        "            {\n",
        "                \"input_ids\": input_ids.cpu().numpy(),\n",
        "                \"attention_mask\": attention_mask.cpu().numpy(),\n",
        "                \"encoder_hidden_states\": encoder_hidden_states.cpu().numpy(),\n",
        "            },\n",
        "        )[0])\n",
        "        \n",
        "        return Seq2SeqLMOutput(logits=decoder_outputs)\n",
        "\n",
        "input_ids = torch.ones(2, 96, dtype=torch.int64)\n",
        "attention_mask = torch.ones(2, 96, dtype=torch.int64)\n",
        "encoder_hidden_states  = torch.ones([2, 577, 768]).to('cuda')\n",
        "\n",
        "cuda_onnx_decoder = ONNXTrOCRDecoder(cuda_decoder_sess, cuda_hf_model.decoder.config)\n",
        "cpu_onnx_decoder = ONNXTrOCRDecoder(cpu_decoder_sess, cpu_hf_model.decoder.config)\n",
        "\n",
        "decoder_logits = cuda_onnx_decoder(input_ids.to('cuda'), \n",
        "                                   attention_mask.to('cuda'),\n",
        "                                   encoder_hidden_states.to('cuda'))\n",
        "\n",
        "decoder_logits = cpu_onnx_decoder(input_ids.to('cpu'), \n",
        "                                  attention_mask.to('cpu'),\n",
        "                                  encoder_hidden_states.to('cpu'))\n",
        "\n",
        "decoder_logits[0].shape"
      ],
      "metadata": {
        "id": "FEK4l4-37rt3",
        "colab": {
          "base_uri": "https://localhost:8080/"
        },
        "outputId": "347ad20b-bb27-419c-bbb9-773c9c134cea"
      },
      "execution_count": 19,
      "outputs": [
        {
          "output_type": "execute_result",
          "data": {
            "text/plain": [
              "torch.Size([2, 96, 50265])"
            ]
          },
          "metadata": {},
          "execution_count": 19
        }
      ]
    },
    {
      "cell_type": "markdown",
      "source": [
        "# Basic ONNX Inference"
      ],
      "metadata": {
        "id": "R2BMaLncs3V0"
      }
    },
    {
      "cell_type": "code",
      "source": [
        "from transformers import AutoConfig\n",
        "\n",
        "class ONNXTrOCR(VisionEncoderDecoderModel):\n",
        "    \"\"\"creates a T5 model using onnx sessions (encode, decoder & init_decoder)\"\"\"\n",
        "\n",
        "    def __init__(self, model_path, onnx_model_sessions):\n",
        "        config = AutoConfig.from_pretrained(model_path)\n",
        "        super().__init__(config)\n",
        "        \n",
        "        encoder_sess, decoder_sess = onnx_model_sessions\n",
        "\n",
        "        self.encoder = ONNXTrOCREncoder(encoder_sess)\n",
        "        self.decoder = ONNXTrOCRDecoder(decoder_sess)\n",
        "\n",
        "    def forward(\n",
        "        self,\n",
        "        pixel_values=None,\n",
        "        decoder_input_ids=None,\n",
        "        decoder_attention_mask=None,\n",
        "        encoder_outputs=None,\n",
        "        past_key_values=None,\n",
        "        decoder_inputs_embeds=None,\n",
        "        labels=None,\n",
        "        use_cache=None,\n",
        "        output_attentions=None,\n",
        "        output_hidden_states=None,\n",
        "        return_dict=None,\n",
        "        **kwargs,\n",
        "    ):\n",
        "        encoder_hidden_states = encoder_outputs['last_hidden_state'] \\\n",
        "                                 if type(encoder_outputs)==dict \\\n",
        "                                 else encoder_outputs[0]\n",
        "\n",
        "        # else:\n",
        "        encoder_attention_mask = None\n",
        "        \n",
        "        # Decode\n",
        "        decoder_outputs = self.decoder(\n",
        "            input_ids=decoder_input_ids,\n",
        "            attention_mask=decoder_attention_mask,\n",
        "            encoder_hidden_states=encoder_hidden_states,\n",
        "            encoder_attention_mask=encoder_attention_mask,\n",
        "            inputs_embeds=decoder_inputs_embeds,\n",
        "            output_attentions=output_attentions,\n",
        "            output_hidden_states=output_hidden_states,\n",
        "            use_cache=use_cache,\n",
        "            past_key_values=past_key_values,\n",
        "        )\n",
        "\n",
        "        return Seq2SeqLMOutput(\n",
        "            logits=decoder_outputs.logits,\n",
        "        )\n",
        "\n",
        "cuda_onnx_trocr = ONNXTrOCR(\n",
        "    model_path='microsoft/trocr-base-stage1', \n",
        "    onnx_model_sessions=(cuda_encoder_sess, cuda_decoder_sess)\n",
        "    ).to('cuda')\n",
        "\n",
        "cpu_onnx_trocr = ONNXTrOCR(\n",
        "    model_path='microsoft/trocr-base-stage1', \n",
        "    onnx_model_sessions=(cpu_encoder_sess, cpu_decoder_sess)\n",
        "    ).to('cpu')\n",
        "\n",
        "configure_generation(cuda_onnx_trocr)\n",
        "configure_generation(cpu_onnx_trocr)"
      ],
      "metadata": {
        "id": "kz9BHX8H7vN-"
      },
      "execution_count": 26,
      "outputs": []
    },
    {
      "cell_type": "code",
      "source": [
        "%timeit preprocessor.tokenizer.batch_decode( \\\n",
        "                                            cuda_onnx_trocr.generate( \\\n",
        "                                                                     pixel_values.to('cpu'), \\\n",
        "                                                                     max_length=96 \\\n",
        "                                                                     ), \\\n",
        "                                            skip_special_tokens=True, \\\n",
        "                                            )"
      ],
      "metadata": {
        "id": "FBDiP_NE70h-",
        "colab": {
          "base_uri": "https://localhost:8080/"
        },
        "outputId": "8671934d-5661-4537-8447-fb0ef73bb487"
      },
      "execution_count": 27,
      "outputs": [
        {
          "output_type": "stream",
          "name": "stdout",
          "text": [
            "1.95 s ± 6.15 ms per loop (mean ± std. dev. of 7 runs, 1 loop each)\n"
          ]
        }
      ]
    },
    {
      "cell_type": "code",
      "source": [
        "%time preprocessor.tokenizer.batch_decode( \\\n",
        "                                          cpu_onnx_trocr.generate( \\\n",
        "                                                                  pixel_values.to('cpu'), \\\n",
        "                                                                  max_length=96 \\\n",
        "                                                                  ), \\\n",
        "                                          skip_special_tokens=True, \\\n",
        "                                          )"
      ],
      "metadata": {
        "colab": {
          "base_uri": "https://localhost:8080/"
        },
        "id": "YvbGW4xvqYVk",
        "outputId": "c9f2f82d-5ac4-412b-bf5f-e986d9d80b21"
      },
      "execution_count": 28,
      "outputs": [
        {
          "output_type": "stream",
          "name": "stdout",
          "text": [
            "CPU times: user 5min 3s, sys: 114 ms, total: 5min 4s\n",
            "Wall time: 51.1 s\n"
          ]
        },
        {
          "output_type": "execute_result",
          "data": {
            "text/plain": [
              "['This text is generated by Landing Page Text positioned at Top. In the Banner Ribbon and Action Button item above, Display',\n",
              " 'Search Box replaces the Ribbon text, and there is no Action button. In this 2-1-1 layout, there is a Content Butes item in the',\n",
              " 'double-width left column. The other two columns each contain Landing Page Text items, positioned at Left and Right. Return to',\n",
              " 'the Landing Page overview.',\n",
              " 'This is Landing Page Text which is',\n",
              " 'positioned at Right. It is automatically',\n",
              " 'right-aligned.',\n",
              " 'University of the Highlands and Islands',\n",
              " 'Executive Office',\n",
              " '12b Ness Walk',\n",
              " 'Inverness',\n",
              " 'Scotland',\n",
              " 'IV3 5SO',\n",
              " 'Linking to Media Library documents, or',\n",
              " 'to Sections is possible. The usual text',\n",
              " 'formatting options are available in the',\n",
              " 'toolbar.']"
            ]
          },
          "metadata": {},
          "execution_count": 28
        }
      ]
    },
    {
      "cell_type": "markdown",
      "source": [
        "Yeeeep it's slower and that's because ONNX needs to send the tensors from its runtime to numpy and viceversa each time it passes them through the auto regressive decoder."
      ],
      "metadata": {
        "id": "gbPib4xfX5HX"
      }
    },
    {
      "cell_type": "markdown",
      "source": [
        "# Optimized ONNX Infrence"
      ],
      "metadata": {
        "id": "mVOzT33D4Qjd"
      }
    },
    {
      "cell_type": "code",
      "source": [
        "opt_cuda_encoder_sess, opt_cuda_decoder_sess = get_onnx_runtime_sessions(\n",
        "  model_paths=onnx_models,\n",
        "  default=False,\n",
        "  provider=['CUDAExecutionProvider']\n",
        ")\n",
        "\n",
        "opt_cpu_encoder_sess, opt_cpu_decoder_sess = get_onnx_runtime_sessions(\n",
        "  model_paths=onnx_models,\n",
        "  default=False,\n",
        "  provider=['CPUExecutionProvider']\n",
        ")\n",
        "\n",
        "opt_cuda_onnx_trocr = ONNXTrOCR(\n",
        "    model_path='microsoft/trocr-base-stage1', \n",
        "    onnx_model_sessions=(opt_cuda_encoder_sess, opt_cuda_decoder_sess)\n",
        "    ).to('cuda')\n",
        "\n",
        "opt_cpu_onnx_trocr = ONNXTrOCR(\n",
        "    model_path='microsoft/trocr-base-stage1', \n",
        "    onnx_model_sessions=(opt_cpu_encoder_sess, opt_cpu_decoder_sess)\n",
        "    ).to('cpu')\n",
        "\n",
        "configure_generation(opt_cuda_onnx_trocr)\n",
        "configure_generation(opt_cpu_onnx_trocr)"
      ],
      "metadata": {
        "id": "LtzUg-QJ4Vz0"
      },
      "execution_count": 30,
      "outputs": []
    },
    {
      "cell_type": "code",
      "source": [
        "%timeit preprocessor.tokenizer.batch_decode( \\\n",
        "                                            opt_cuda_onnx_trocr.generate( \\\n",
        "                                                                         pixel_values.to('cpu'), \\\n",
        "                                                                         max_length=96 \\\n",
        "                                                                         ), \\\n",
        "                                            skip_special_tokens=True, \\\n",
        "                                            )"
      ],
      "metadata": {
        "colab": {
          "base_uri": "https://localhost:8080/"
        },
        "id": "zM1SZua04XM-",
        "outputId": "9d9727e1-f4ae-45b8-a9b7-62997a8b1eb4"
      },
      "execution_count": 31,
      "outputs": [
        {
          "output_type": "stream",
          "name": "stdout",
          "text": [
            "1.92 s ± 7.53 ms per loop (mean ± std. dev. of 7 runs, 1 loop each)\n"
          ]
        }
      ]
    },
    {
      "cell_type": "code",
      "source": [
        "%time preprocessor.tokenizer.batch_decode( \\\n",
        "                                          opt_cpu_onnx_trocr.generate( \\\n",
        "                                                                      pixel_values.to('cpu'), \\\n",
        "                                                                      max_length=96 \\\n",
        "                                                                      ), \\\n",
        "                                          skip_special_tokens=True, \\\n",
        "                                          )"
      ],
      "metadata": {
        "colab": {
          "base_uri": "https://localhost:8080/"
        },
        "id": "n68SPoGd_nsI",
        "outputId": "c2164ab3-b299-480d-9882-ea86a5822bf4"
      },
      "execution_count": 32,
      "outputs": [
        {
          "output_type": "stream",
          "name": "stdout",
          "text": [
            "CPU times: user 7min 59s, sys: 14.1 s, total: 8min 13s\n",
            "Wall time: 56.3 s\n"
          ]
        },
        {
          "output_type": "execute_result",
          "data": {
            "text/plain": [
              "['This text is generated by Landing Page Text positioned at Top. In the Banner Ribbon and Action Button item above, Display',\n",
              " 'Search Box replaces the Ribbon text, and there is no Action button. In this 2-1-1 layout, there is a Content Butes item in the',\n",
              " 'double-width left column. The other two columns each contain Landing Page Text items, positioned at Left and Right. Return to',\n",
              " 'the Landing Page overview.',\n",
              " 'This is Landing Page Text which is',\n",
              " 'positioned at Right. It is automatically',\n",
              " 'right-aligned.',\n",
              " 'University of the Highlands and Islands',\n",
              " 'Executive Office',\n",
              " '12b Ness Walk',\n",
              " 'Inverness',\n",
              " 'Scotland',\n",
              " 'IV3 5SO',\n",
              " 'Linking to Media Library documents, or',\n",
              " 'to Sections is possible. The usual text',\n",
              " 'formatting options are available in the',\n",
              " 'toolbar.']"
            ]
          },
          "metadata": {},
          "execution_count": 32
        }
      ]
    },
    {
      "cell_type": "markdown",
      "source": [
        "No gain at all LMAO."
      ],
      "metadata": {
        "id": "ossV4EcPAKAj"
      }
    },
    {
      "cell_type": "markdown",
      "source": [
        "# ONNX Inference With an Auto-Regressive Hack"
      ],
      "metadata": {
        "id": "wYnVAkxvPQwB"
      }
    },
    {
      "cell_type": "code",
      "source": [
        "from transformers import AutoConfig\n",
        "\n",
        "class BetterONNXTrOCR(VisionEncoderDecoderModel):\n",
        "    \"\"\"creates a T5 model using onnx sessions (encode, decoder & init_decoder)\"\"\"\n",
        "\n",
        "    def __init__(self, model_path, onnx_model_sessions):\n",
        "        config = AutoConfig.from_pretrained(model_path)\n",
        "        super().__init__(config)\n",
        "        \n",
        "        encoder_sess, decoder_sess = onnx_model_sessions\n",
        "\n",
        "        self.encoder = ONNXTrOCREncoder(encoder_sess)\n",
        "        self.decoder = ONNXTrOCRDecoder(decoder_sess)\n",
        "\n",
        "    def forward(\n",
        "        self,\n",
        "        pixel_values=None,\n",
        "        decoder_input_ids=None,\n",
        "        decoder_attention_mask=None,\n",
        "        encoder_outputs=None,\n",
        "        past_key_values=None,\n",
        "        decoder_inputs_embeds=None,\n",
        "        labels=None,\n",
        "        use_cache=None,\n",
        "        output_attentions=None,\n",
        "        output_hidden_states=None,\n",
        "        return_dict=None,\n",
        "        **kwargs,\n",
        "    ):\n",
        "        encoder_hidden_states = encoder_outputs['last_hidden_state'] \\\n",
        "                                 if type(encoder_outputs)==dict \\\n",
        "                                 else encoder_outputs[0]\n",
        "\n",
        "        encoder_attention_mask = None\n",
        "        \n",
        "        eos_mask = decoder_input_ids[:, -1] <= self.config.eos_token_id\n",
        "\n",
        "        # Decode        \n",
        "        if any(eos_mask) and (decoder_input_ids.shape[1]>1):\n",
        "            reduced_logits = self.decoder(\n",
        "                ### compute reduction ###\n",
        "                input_ids=decoder_input_ids[torch.logical_not(eos_mask), :],\n",
        "                attention_mask=decoder_attention_mask[torch.logical_not(eos_mask), :],\n",
        "                encoder_hidden_states=encoder_hidden_states[torch.logical_not(eos_mask), :, :],\n",
        "                #########################\n",
        "                encoder_attention_mask=encoder_attention_mask,\n",
        "                inputs_embeds=decoder_inputs_embeds,\n",
        "                output_attentions=output_attentions,\n",
        "                output_hidden_states=output_hidden_states,\n",
        "                use_cache=use_cache,\n",
        "                past_key_values=past_key_values,\n",
        "            ).logits\n",
        "\n",
        "            logits = torch.full((decoder_input_ids.shape[0], decoder_input_ids.shape[1], self.config.decoder.vocab_size), fill_value=self.config.pad_token_id, dtype=reduced_logits.dtype, device=reduced_logits.device)\n",
        "            logits[torch.logical_not(eos_mask), :, :] = reduced_logits\n",
        "            logits[eos_mask, :, :] = self.ids_to_logits(decoder_input_ids[eos_mask, 1:], reduced_logits)\n",
        "        else:\n",
        "            logits = self.decoder(\n",
        "                input_ids=decoder_input_ids,\n",
        "                attention_mask=decoder_attention_mask,\n",
        "                encoder_hidden_states=encoder_hidden_states,\n",
        "                encoder_attention_mask=encoder_attention_mask,\n",
        "                inputs_embeds=decoder_inputs_embeds,\n",
        "                output_attentions=output_attentions,\n",
        "                output_hidden_states=output_hidden_states,\n",
        "                use_cache=use_cache,\n",
        "                past_key_values=past_key_values,\n",
        "            ).logits\n",
        "        \n",
        "        return Seq2SeqLMOutput(\n",
        "          logits=logits,\n",
        "        )\n",
        "\n",
        "    def ids_to_logits(self, ids, reduced_logits):\n",
        "        logits = torch.zeros((ids.shape[0], ids.shape[1]+1, self.config.decoder.vocab_size), dtype=reduced_logits.dtype, device=reduced_logits.device)\n",
        "        logits[:, -1, 2] = 1 # max_pad_token\n",
        "        for i in range(ids.shape[1]):\n",
        "            logits[:, i, ids[:, i]] = 1\n",
        "        \n",
        "        return logits\n",
        "\n",
        "better_cuda_onnx_trocr = BetterONNXTrOCR(\n",
        "    model_path='microsoft/trocr-base-stage1', \n",
        "    onnx_model_sessions=(cuda_encoder_sess, cuda_decoder_sess)\n",
        "    ).to('cuda')\n",
        "\n",
        "better_cpu_onnx_trocr = BetterONNXTrOCR(\n",
        "    model_path='microsoft/trocr-base-stage1', \n",
        "    onnx_model_sessions=(cpu_encoder_sess, cpu_decoder_sess)\n",
        "    ).to('cpu')\n",
        "\n",
        "configure_generation(better_cuda_onnx_trocr)\n",
        "configure_generation(better_cpu_onnx_trocr)"
      ],
      "metadata": {
        "id": "QQjdFJ9O8xrP"
      },
      "execution_count": 33,
      "outputs": []
    },
    {
      "cell_type": "code",
      "source": [
        "%timeit preprocessor.tokenizer.batch_decode( \\\n",
        "                                            better_cuda_onnx_trocr.generate( \\\n",
        "                                                                            pixel_values.to('cpu'), \\\n",
        "                                                                            max_length=96, \\\n",
        "                                                                            ), \\\n",
        "                                            skip_special_tokens=True)"
      ],
      "metadata": {
        "colab": {
          "base_uri": "https://localhost:8080/"
        },
        "id": "p4UB2tOGzaPB",
        "outputId": "33f8c9ff-cb5c-48fd-f48d-7cd0823d4045"
      },
      "execution_count": 35,
      "outputs": [
        {
          "output_type": "stream",
          "name": "stdout",
          "text": [
            "942 ms ± 6.85 ms per loop (mean ± std. dev. of 7 runs, 1 loop each)\n"
          ]
        }
      ]
    },
    {
      "cell_type": "code",
      "source": [
        "%time preprocessor.tokenizer.batch_decode( \\\n",
        "                                          better_cpu_onnx_trocr.generate( \\\n",
        "                                                                         pixel_values.to('cpu'), \\\n",
        "                                                                         max_length=96, \\\n",
        "                                                                         ), \\\n",
        "                                          skip_special_tokens=True)"
      ],
      "metadata": {
        "colab": {
          "base_uri": "https://localhost:8080/"
        },
        "id": "rllrn-87sTNo",
        "outputId": "146632de-f96c-49bb-e88a-ef376ef702ac"
      },
      "execution_count": 36,
      "outputs": [
        {
          "output_type": "stream",
          "name": "stdout",
          "text": [
            "CPU times: user 2min 12s, sys: 67.8 ms, total: 2min 13s\n",
            "Wall time: 22.4 s\n"
          ]
        },
        {
          "output_type": "execute_result",
          "data": {
            "text/plain": [
              "['This text is generated by Landing Page Text positioned at Top. In the Banner Ribbon and Action Button item above, Display',\n",
              " 'Search Box replaces the Ribbon text, and there is no Action button. In this 2-1-1 layout, there is a Content Butes item in the',\n",
              " 'double-width left column. The other two columns each contain Landing Page Text items, positioned at Left and Right. Return to',\n",
              " 'the Landing Page overview.',\n",
              " 'This is Landing Page Text which is',\n",
              " 'positioned at Right. It is automatically',\n",
              " 'right-aligned.',\n",
              " 'University of the Highlands and Islands',\n",
              " 'Executive Office',\n",
              " '12b Ness Walk',\n",
              " 'Inverness',\n",
              " 'Scotland',\n",
              " 'IV3 5SO',\n",
              " 'Linking to Media Library documents, or',\n",
              " 'to Sections is possible. The usual text',\n",
              " 'formatting options are available in the',\n",
              " 'toolbar.']"
            ]
          },
          "metadata": {},
          "execution_count": 36
        }
      ]
    },
    {
      "cell_type": "markdown",
      "source": [
        "# HF Inference With an Auto-Regressive Hack"
      ],
      "metadata": {
        "id": "sZurdsJEtB2E"
      }
    },
    {
      "cell_type": "code",
      "source": [
        "from transformers import AutoConfig\n",
        "\n",
        "class BetterHFTrOCR(VisionEncoderDecoderModel):\n",
        "    \"\"\"creates a TrOCR model\"\"\"\n",
        "\n",
        "    def __init__(self, model_path):\n",
        "        model_ = VisionEncoderDecoderModel.from_pretrained('microsoft/trocr-base-stage1')\n",
        "\n",
        "        super().__init__(model_.config)\n",
        "\n",
        "        self.encoder = model_.encoder\n",
        "        self.decoder = model_.decoder\n",
        "\n",
        "    def forward(\n",
        "        self,\n",
        "        pixel_values=None,\n",
        "        decoder_input_ids=None,\n",
        "        decoder_attention_mask=None,\n",
        "        encoder_outputs=None,\n",
        "        past_key_values=None,\n",
        "        decoder_inputs_embeds=None,\n",
        "        labels=None,\n",
        "        use_cache=None,\n",
        "        output_attentions=None,\n",
        "        output_hidden_states=None,\n",
        "        return_dict=None,\n",
        "        **kwargs,\n",
        "    ):\n",
        "\n",
        "        encoder_hidden_states = encoder_outputs['last_hidden_state'] \\\n",
        "                                 if type(encoder_outputs)==dict \\\n",
        "                                 else encoder_outputs[0]\n",
        "\n",
        "        encoder_attention_mask = None\n",
        "        \n",
        "        eos_mask = decoder_input_ids[:, -1] <= self.config.eos_token_id\n",
        "\n",
        "        # Decode        \n",
        "        if any(eos_mask) and (decoder_input_ids.shape[1]>1):\n",
        "            reduced_logits = self.decoder(\n",
        "                ### compute reduction ###\n",
        "                input_ids=decoder_input_ids[torch.logical_not(eos_mask), :],\n",
        "                attention_mask=decoder_attention_mask[torch.logical_not(eos_mask), :],\n",
        "                encoder_hidden_states=encoder_hidden_states[torch.logical_not(eos_mask), :, :],\n",
        "                #########################\n",
        "                encoder_attention_mask=encoder_attention_mask,\n",
        "                inputs_embeds=decoder_inputs_embeds,\n",
        "                output_attentions=output_attentions,\n",
        "                output_hidden_states=output_hidden_states,\n",
        "                use_cache=use_cache,\n",
        "                past_key_values=past_key_values,\n",
        "            ).logits\n",
        "            \n",
        "            logits = torch.full((decoder_input_ids.shape[0], decoder_input_ids.shape[1], self.config.decoder.vocab_size), fill_value=self.config.pad_token_id, dtype=reduced_logits.dtype, device=reduced_logits.device)\n",
        "            logits[torch.logical_not(eos_mask), :, :] = reduced_logits\n",
        "            logits[eos_mask, :, :] = self.ids_to_logits(decoder_input_ids[eos_mask, 1:], reduced_logits)\n",
        "        else:\n",
        "            logits = self.decoder(\n",
        "                input_ids=decoder_input_ids,\n",
        "                attention_mask=decoder_attention_mask,\n",
        "                encoder_hidden_states=encoder_hidden_states,\n",
        "                encoder_attention_mask=encoder_attention_mask,\n",
        "                inputs_embeds=decoder_inputs_embeds,\n",
        "                output_attentions=output_attentions,\n",
        "                output_hidden_states=output_hidden_states,\n",
        "                use_cache=use_cache,\n",
        "                past_key_values=past_key_values,\n",
        "            ).logits\n",
        "\n",
        "        return Seq2SeqLMOutput(\n",
        "          logits=logits,\n",
        "        )\n",
        "\n",
        "    def ids_to_logits(self, ids, reduced_logits):\n",
        "        logits = torch.zeros((ids.shape[0], ids.shape[1]+1, self.config.decoder.vocab_size), dtype=reduced_logits.dtype, device=reduced_logits.device)\n",
        "        logits[:, -1, 2] = 1 # max_pad_token\n",
        "        for i in range(ids.shape[1]):\n",
        "            logits[:, i, ids[:, i]] = 1\n",
        "        \n",
        "        return logits\n",
        "\n",
        "better_cuda_hf_trocr = BetterHFTrOCR(\n",
        "    model_path='microsoft/trocr-base-stage1', \n",
        "    ).to('cuda')\n",
        "\n",
        "better_cpu_hf_trocr = BetterHFTrOCR(\n",
        "    model_path='microsoft/trocr-base-stage1', \n",
        "    ).to('cpu')\n",
        "\n",
        "configure_generation(better_cuda_hf_trocr)\n",
        "configure_generation(better_cpu_hf_trocr)"
      ],
      "metadata": {
        "colab": {
          "base_uri": "https://localhost:8080/"
        },
        "id": "cNclmbSfPrGs",
        "outputId": "72d35786-47af-4080-c3d2-8cee438de95b"
      },
      "execution_count": 37,
      "outputs": [
        {
          "output_type": "stream",
          "name": "stderr",
          "text": [
            "Some weights of VisionEncoderDecoderModel were not initialized from the model checkpoint at microsoft/trocr-base-stage1 and are newly initialized: ['encoder.pooler.dense.weight', 'encoder.pooler.dense.bias']\n",
            "You should probably TRAIN this model on a down-stream task to be able to use it for predictions and inference.\n",
            "Some weights of VisionEncoderDecoderModel were not initialized from the model checkpoint at microsoft/trocr-base-stage1 and are newly initialized: ['encoder.pooler.dense.weight', 'encoder.pooler.dense.bias']\n",
            "You should probably TRAIN this model on a down-stream task to be able to use it for predictions and inference.\n"
          ]
        }
      ]
    },
    {
      "cell_type": "code",
      "source": [
        "%timeit preprocessor.tokenizer.batch_decode( \\\n",
        "                                            better_cuda_hf_trocr.generate( \\\n",
        "                                                                          pixel_values.to('cuda'), \\\n",
        "                                                                          max_length=96, \\\n",
        "                                                                          ), \\\n",
        "                                            skip_special_tokens=True)"
      ],
      "metadata": {
        "colab": {
          "base_uri": "https://localhost:8080/"
        },
        "outputId": "e07805a8-83ec-4f6c-ea7f-fe3348cf2647",
        "id": "wP-xY0pL0mcU"
      },
      "execution_count": 38,
      "outputs": [
        {
          "output_type": "stream",
          "name": "stdout",
          "text": [
            "894 ms ± 1.21 ms per loop (mean ± std. dev. of 7 runs, 1 loop each)\n"
          ]
        }
      ]
    },
    {
      "cell_type": "code",
      "source": [
        "%time preprocessor.tokenizer.batch_decode( \\\n",
        "                                          better_cpu_hf_trocr.generate( \\\n",
        "                                                                       pixel_values.to('cpu'), \\\n",
        "                                                                       max_length=96, \\\n",
        "                                                                       ), \\\n",
        "                                          skip_special_tokens=True)"
      ],
      "metadata": {
        "colab": {
          "base_uri": "https://localhost:8080/"
        },
        "outputId": "71846be9-e2d8-4f2a-b669-fc4a830eec6c",
        "id": "0VVGiPsC0mcV"
      },
      "execution_count": 39,
      "outputs": [
        {
          "output_type": "stream",
          "name": "stdout",
          "text": [
            "CPU times: user 1min 32s, sys: 1.46 s, total: 1min 33s\n",
            "Wall time: 15.6 s\n"
          ]
        },
        {
          "output_type": "execute_result",
          "data": {
            "text/plain": [
              "['This text is generated by Landing Page Text positioned at Top. In the Banner Ribbon and Action Button item above, Display',\n",
              " 'Search Box replaces the Ribbon text, and there is no Action button. In this 2-1-1 layout, there is a Content Butes item in the',\n",
              " 'double-width left column. The other two columns each contain Landing Page Text items, positioned at Left and Right. Return to',\n",
              " 'the Landing Page overview.',\n",
              " 'This is Landing Page Text which is',\n",
              " 'positioned at Right. It is automatically',\n",
              " 'right-aligned.',\n",
              " 'University of the Highlands and Islands',\n",
              " 'Executive Office',\n",
              " '12b Ness Walk',\n",
              " 'Inverness',\n",
              " 'Scotland',\n",
              " 'IV3 5SO',\n",
              " 'Linking to Media Library documents, or',\n",
              " 'to Sections is possible. The usual text',\n",
              " 'formatting options are available in the',\n",
              " 'toolbar.']"
            ]
          },
          "metadata": {},
          "execution_count": 39
        }
      ]
    },
    {
      "cell_type": "markdown",
      "source": [
        "Tadaaaaaaaaaaaaaaaaaaa we devided inference time by 2 in the case of GPU and by 3 in the case of CPU."
      ],
      "metadata": {
        "id": "_OsQJ5Cf1nrP"
      }
    },
    {
      "cell_type": "code",
      "source": [],
      "metadata": {
        "id": "Duh6_D610x4o"
      },
      "execution_count": null,
      "outputs": []
    }
  ]
}